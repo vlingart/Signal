{
 "cells": [
  {
   "cell_type": "code",
   "execution_count": 2,
   "metadata": {},
   "outputs": [],
   "source": [
    "from Cryptodome.Protocol.KDF import PBKDF2\n",
    "from Crypto.Hash import SHA512\n",
    "from Crypto.Util.number import bytes_to_long, long_to_bytes,getPrime, inverse\n",
    "import Crypto.Random.random as random\n",
    "from Cryptodome.Cipher import AES"
   ]
  },
  {
   "cell_type": "code",
   "execution_count": null,
   "metadata": {},
   "outputs": [],
   "source": []
  },
  {
   "cell_type": "code",
   "execution_count": 3,
   "metadata": {},
   "outputs": [],
   "source": [
    "global g,p\n",
    "g=2\n",
    "p=65537\n",
    "def DH_gen():\n",
    "    a=random.randint(100,1000)\n",
    "    return (a,pow(g,a,p))\n",
    "def EG_sign(m,x,y):\n",
    "    k=getPrime(12)\n",
    "    r=pow(g,k,p)\n",
    "    s=(m-x*r)*inverse(k,p-1)%(p-1)\n",
    "    return(r,s)\n",
    "def EG_check(y,r,s,m):\n",
    "    return(pow(g,m,p)==pow(y,r,p)*pow(r,s,p)%p)"
   ]
  },
  {
   "cell_type": "code",
   "execution_count": 4,
   "metadata": {},
   "outputs": [],
   "source": [
    "class server:\n",
    "    #инициализация сервера\n",
    "    def __init__(self):\n",
    "        self.users={}\n",
    "        self.chats={}\n",
    "        self.clients={}\n",
    "        pass\n",
    "    #регистрация пользователей\n",
    "    def registr(self,client, pik, ppk, ppk_sign, pok):\n",
    "        self.users[client.name]={'name':client.name, 'pik':pik, 'ppk':ppk, 'ppk_sign':ppk_sign, 'pok':pok}\n",
    "        self.clients[client.name]=client\n",
    "        self.chats[client.name]={}\n",
    "    #предоставление данных о клиентах \n",
    "    def keys_share(self, name):\n",
    "        bpik=self.users[name]['pik']\n",
    "        bppk=self.users[name]['ppk']\n",
    "        bppk_sign=self.users[name]['ppk_sign']\n",
    "        bpok=self.users[name]['pok']\n",
    "        return(bpik, bppk , bppk_sign, bpok)\n",
    "    #def key_upd(self,client, )"
   ]
  },
  {
   "cell_type": "code",
   "execution_count": 5,
   "metadata": {},
   "outputs": [],
   "source": [
    "class client:\n",
    "    #инициализация клиентов\n",
    "    def __init__(self,name,server):\n",
    "        self.server=server\n",
    "        self.name=name\n",
    "        self.chats={}\n",
    "    #регситрация клиентов\n",
    "    def registr(self):\n",
    "        sik,pik=DH_gen()\n",
    "        spk,ppk=DH_gen()\n",
    "        ppk_sign=EG_sign(ppk,sik,pik)\n",
    "        sok, pok=DH_gen()\n",
    "        self.sik=sik\n",
    "        self.spk=spk\n",
    "        self.sok=sok\n",
    "        self.server.registr(self, pik, ppk, ppk_sign, pok)\n",
    "    #инициализация общения\n",
    "    def start_conversation(self,partner_name):\n",
    "        self.chats[partner_name]={}\n",
    "        bpik, bppk, bppk_sign, bpok = self.server.keys_share(partner_name)\n",
    "        if not (EG_check(bpik,bppk_sign[0],bppk_sign[1], bppk)):\n",
    "            print(\"Ключ был подменен\")\n",
    "            return\n",
    "        DH1=long_to_bytes(pow(bppk,self.sik,p), 16)\n",
    "        sek, pek= DH_gen()\n",
    "        DH2=long_to_bytes(pow(bpik,sek,p), 16)\n",
    "        DH3=long_to_bytes(pow(bppk,sek,p), 16)\n",
    "        if(bpok==False):\n",
    "            SK=PBKDF2(DH1+DH2+DH3, b'', 16, count=100, hmac_hash_module=SHA512)\n",
    "            self.chats[partner_name]={'RK':SK}\n",
    "            return\n",
    "        DH4=long_to_bytes(pow(bpok,sek,p), 16)\n",
    "        SK=PBKDF2(DH1+DH2+DH3+DH4, b'', 16, count=100, hmac_hash_module=SHA512)\n",
    "        self.chats[partner_name]['RK']=SK\n",
    "        self.chats[partner_name]['dir']=1\n",
    "        self.chats[partner_name]['n']=1\n",
    "        sk,pk=DH_gen()\n",
    "        self.chats[partner_name]['keys']={'sk':[SK],'ak':sk}\n",
    "        self.chats[partner_name]['keys']['RK']=SK\n",
    "        cipher = AES.new(SK, AES.MODE_GCM, nonce=b'a')\n",
    "        \n",
    "        message={'name':self.name,'ik':pow(g,self.sik,p), 'pek':pek, 'id':-1, 'msg':cipher.encrypt(b'Hello!')}\n",
    "        self.server.chats[self.name][partner_name]={'msgs':[message]}\n",
    "        self.server.chats[partner_name][self.name]={'msgs':[message]}\n",
    "        self.server.chats[self.name][partner_name]['keys']=pk\n",
    "        self.server.chats[self.name][partner_name]['n']=1\n",
    "    #обновление диалогов   \n",
    "    def update_dialog(self,name):\n",
    "        try:\n",
    "            self.chats[name]['msgs']=self.server.chats[self.name][name]['msgs'].copy()\n",
    "        except:\n",
    "            self.chats[name]={}\n",
    "            self.chats[name]['msgs']=self.server.chats[self.name][name]['msgs'].copy()\n",
    "    #проверка наличия клиентов, желаающих начать общение   \n",
    "    def init_check(self):\n",
    "        for name in self.chats:\n",
    "            if(len(self.chats[name]['msgs'])==1):\n",
    "                init_message=self.chats[name]['msgs'][0]\n",
    "                name=init_message['name']\n",
    "                ik=init_message['ik']\n",
    "                pek=init_message['pek']\n",
    "                msg=init_message['msg']\n",
    "                DH1=long_to_bytes(pow(ik,self.spk,p), 16)\n",
    "                DH2=long_to_bytes(pow(pek,self.sik,p), 16)\n",
    "                DH3=long_to_bytes(pow(pek,self.spk,p), 16)\n",
    "                if(self.sok==False):\n",
    "                    SK=PBKDF2(DH1+DH2+DH3, b'', 16, count=100, hmac_hash_module=SHA512)\n",
    "                    self.chats[name]['RK']=SK\n",
    "                    return\n",
    "                DH4=long_to_bytes(pow(pek,self.sok,p), 16)  \n",
    "                SK=PBKDF2(DH1+DH2+DH3+DH4, b'', 16, count=100, hmac_hash_module=SHA512)\n",
    "                self.chats[name]['dir']=1\n",
    "                self.chats[name]['n']=1\n",
    "                sk,pk=DH_gen()\n",
    "                self.chats[name]['keys']={'sk':[SK],'ak':sk}\n",
    "                self.chats[name]['keys']['RK']=SK\n",
    "                self.server.chats[self.name][name]['keys']=pk\n",
    "                self.server.chats[self.name][name]['n']=1\n",
    "    #отправка сообщений            \n",
    "    def msg_send(self,name,text):\n",
    "        if(self.chats[name]['dir']==1):\n",
    "            sk,pk=DH_gen()\n",
    "            self.chats[name]['keys']['ak']=sk\n",
    "            bpk=self.server.chats[name][self.name]['keys']\n",
    "            self.server.chats[self.name][name]['keys']=pk\n",
    "            dhKEY=long_to_bytes(pow(bpk,sk,p),16)\n",
    "            symk=PBKDF2(dhKEY, self.chats[name]['keys']['RK'], 16, count=100, hmac_hash_module=SHA512)\n",
    "            self.chats[name]['keys']['sk'].append(symk)\n",
    "            self.chats[name]['keys']['RK']=symk\n",
    "            message=text.encode('utf-8')\n",
    "            cipher = AES.new(symk, AES.MODE_GCM, nonce=b'a')\n",
    "            cmsg=cipher.encrypt(message)\n",
    "            self.chats[name]['msgs'].append(text)\n",
    "            self.server.chats[self.name][name]['msgs'].append(cmsg)\n",
    "            self.server.chats[name][self.name]['msgs'].append(cmsg)\n",
    "            self.server.chats[self.name][name]['n']=self.server.chats[self.name][name]['n']+1\n",
    "            self.server.chats[name][self.name]['n']=self.server.chats[name][self.name]['n']+1\n",
    "            self.chats[name]['dir']=0\n",
    "            self.chats[name]['n']=self.chats[name]['n']+1\n",
    "        else:\n",
    "            print('2')\n",
    "            symk=PBKDF2(self.chats[name]['keys']['sk'][-1], self.chats[name]['keys']['RK'], 16, count=100, hmac_hash_module=SHA512)\n",
    "            self.chats[name]['keys']['sk'].append(symk)\n",
    "            self.chats[name]['keys']['RK']=symk\n",
    "            message=text.encode('utf-8')\n",
    "            self.chats[name]['msgs'].append(text)\n",
    "            cipher = AES.new(symk, AES.MODE_GCM, nonce=b'a')\n",
    "            cmsg=cipher.encrypt(message)\n",
    "            self.server.chats[self.name][name]['msgs'].append(cmsg)\n",
    "            self.server.chats[name][self.name]['msgs'].append(cmsg)\n",
    "            self.server.chats[self.name][name]['n']=self.server.chats[self.name][name]['n']+1\n",
    "            self.server.chats[name][self.name]['n']=self.server.chats[name][self.name]['n']+1\n",
    "            self.chats[name]['n']=self.chats[name]['n']+1\n",
    "      #проверка входящих сообщений        \n",
    "    def msg_check(self,name):\n",
    "        msg_len=len(self.server.chats[self.name][name]['msgs'])\n",
    "        if(msg_len>self.chats[name]['n']):\n",
    "            msgs_count=msg_len-self.chats[name]['n']\n",
    "            bpk=self.server.chats[name][self.name]['keys']\n",
    "            dhKEY=long_to_bytes(pow(bpk,self.chats[name]['keys']['ak'],p),16)\n",
    "            symk=PBKDF2(dhKEY, self.chats[name]['keys']['RK'], 16, count=100, hmac_hash_module=SHA512)\n",
    "            self.chats[name]['keys']['sk'].append(symk)\n",
    "            self.chats[name]['keys']['RK']=symk\n",
    "            new_msg=self.server.chats[self.name][name]['msgs'][self.chats[name]['n']]\n",
    "            cipher = AES.new(self.chats[name]['keys']['sk'][-1], AES.MODE_GCM, nonce=b'a')\n",
    "            text=cipher.decrypt(new_msg).decode('utf-8')\n",
    "            print(text)\n",
    "            self.chats[name]['n']=self.chats[name]['n']+1\n",
    "            self.chats[name]['msgs'].append(text)\n",
    "            for i in range(1,msgs_count):\n",
    "                symk=PBKDF2(self.chats[name]['keys']['sk'][-1], self.chats[name]['keys']['RK'], 16, count=100, hmac_hash_module=SHA512)\n",
    "                self.chats[name]['keys']['sk'].append(symk)\n",
    "                new_msg=self.server.chats[self.name][name]['msgs'][self.chats[name]['n']+i]\n",
    "                cipher = AES.new(self.chats[name]['keys']['sk'][-1], AES.MODE_GCM, nonce=b'a')\n",
    "                text=cipher.decrypt(new_msg).decode('utf-8')\n",
    "                print(text)\n",
    "                self.chats[name]['msgs'].append(text)\n",
    "                self.chats[name]['n']=self.chats[name]['n']+1\n",
    "            self.chats[name]['dir']=1"
   ]
  },
  {
   "cell_type": "code",
   "execution_count": 6,
   "metadata": {},
   "outputs": [],
   "source": [
    "s=server()"
   ]
  },
  {
   "cell_type": "code",
   "execution_count": 7,
   "metadata": {},
   "outputs": [],
   "source": [
    "c1=client('c1',s)\n",
    "c1.registr()"
   ]
  },
  {
   "cell_type": "code",
   "execution_count": 8,
   "metadata": {},
   "outputs": [],
   "source": [
    "c2=client('c2',s)\n",
    "c2.registr()"
   ]
  },
  {
   "cell_type": "code",
   "execution_count": 9,
   "metadata": {},
   "outputs": [
    {
     "data": {
      "text/plain": [
       "{'c1': <__main__.client at 0x1da8276acc8>,\n",
       " 'c2': <__main__.client at 0x1da827703c8>}"
      ]
     },
     "execution_count": 9,
     "metadata": {},
     "output_type": "execute_result"
    }
   ],
   "source": [
    "s.clients"
   ]
  },
  {
   "cell_type": "code",
   "execution_count": 10,
   "metadata": {},
   "outputs": [],
   "source": [
    "c1.start_conversation('c2')"
   ]
  },
  {
   "cell_type": "code",
   "execution_count": 11,
   "metadata": {},
   "outputs": [],
   "source": [
    "c1.update_dialog('c2')"
   ]
  },
  {
   "cell_type": "code",
   "execution_count": 12,
   "metadata": {},
   "outputs": [],
   "source": [
    "c2.update_dialog('c1')"
   ]
  },
  {
   "cell_type": "code",
   "execution_count": 13,
   "metadata": {},
   "outputs": [],
   "source": [
    "c2.init_check()"
   ]
  },
  {
   "cell_type": "code",
   "execution_count": 14,
   "metadata": {},
   "outputs": [
    {
     "data": {
      "text/plain": [
       "{'c1': {'c2': {'msgs': [{'name': 'c1',\n",
       "     'ik': 256,\n",
       "     'pek': 65281,\n",
       "     'id': -1,\n",
       "     'msg': b'Ib\\xde\\x8b#_'}],\n",
       "   'keys': 1024,\n",
       "   'n': 1}},\n",
       " 'c2': {'c1': {'msgs': [{'name': 'c1',\n",
       "     'ik': 256,\n",
       "     'pek': 65281,\n",
       "     'id': -1,\n",
       "     'msg': b'Ib\\xde\\x8b#_'}],\n",
       "   'keys': 32,\n",
       "   'n': 1}}}"
      ]
     },
     "execution_count": 14,
     "metadata": {},
     "output_type": "execute_result"
    }
   ],
   "source": [
    "s.chats"
   ]
  },
  {
   "cell_type": "code",
   "execution_count": 15,
   "metadata": {},
   "outputs": [],
   "source": [
    "c1.msg_send('c2','aaaaaaaaaaaaa')"
   ]
  },
  {
   "cell_type": "code",
   "execution_count": 16,
   "metadata": {},
   "outputs": [
    {
     "data": {
      "text/plain": [
       "{'c2': {'RK': b'n\\x8a|\\x87(KM*\\xee\\xb9\\xf3n\\xb3W\\x92]',\n",
       "  'dir': 0,\n",
       "  'n': 2,\n",
       "  'keys': {'sk': [b'n\\x8a|\\x87(KM*\\xee\\xb9\\xf3n\\xb3W\\x92]',\n",
       "    b'\\xac\\xbc<]Y\\x94\\x8a\\xa2\\x13\\x18\\x82{\\t#7x'],\n",
       "   'ak': 515,\n",
       "   'RK': b'\\xac\\xbc<]Y\\x94\\x8a\\xa2\\x13\\x18\\x82{\\t#7x'},\n",
       "  'msgs': [{'name': 'c1',\n",
       "    'ik': 256,\n",
       "    'pek': 65281,\n",
       "    'id': -1,\n",
       "    'msg': b'Ib\\xde\\x8b#_'},\n",
       "   'aaaaaaaaaaaaa']}}"
      ]
     },
     "execution_count": 16,
     "metadata": {},
     "output_type": "execute_result"
    }
   ],
   "source": [
    "c1.chats"
   ]
  },
  {
   "cell_type": "code",
   "execution_count": 17,
   "metadata": {},
   "outputs": [
    {
     "name": "stdout",
     "output_type": "stream",
     "text": [
      "aaaaaaaaaaaaa\n"
     ]
    }
   ],
   "source": [
    "c2.msg_check('c1')"
   ]
  },
  {
   "cell_type": "code",
   "execution_count": 18,
   "metadata": {},
   "outputs": [
    {
     "data": {
      "text/plain": [
       "{'c1': {'msgs': [{'name': 'c1',\n",
       "    'ik': 256,\n",
       "    'pek': 65281,\n",
       "    'id': -1,\n",
       "    'msg': b'Ib\\xde\\x8b#_'},\n",
       "   'aaaaaaaaaaaaa'],\n",
       "  'dir': 1,\n",
       "  'n': 2,\n",
       "  'keys': {'sk': [b'n\\x8a|\\x87(KM*\\xee\\xb9\\xf3n\\xb3W\\x92]',\n",
       "    b'\\xac\\xbc<]Y\\x94\\x8a\\xa2\\x13\\x18\\x82{\\t#7x'],\n",
       "   'ak': 677,\n",
       "   'RK': b'\\xac\\xbc<]Y\\x94\\x8a\\xa2\\x13\\x18\\x82{\\t#7x'}}}"
      ]
     },
     "execution_count": 18,
     "metadata": {},
     "output_type": "execute_result"
    }
   ],
   "source": [
    "c2.chats"
   ]
  },
  {
   "cell_type": "code",
   "execution_count": 19,
   "metadata": {},
   "outputs": [
    {
     "data": {
      "text/plain": [
       "{'c2': {'RK': b'n\\x8a|\\x87(KM*\\xee\\xb9\\xf3n\\xb3W\\x92]',\n",
       "  'dir': 0,\n",
       "  'n': 2,\n",
       "  'keys': {'sk': [b'n\\x8a|\\x87(KM*\\xee\\xb9\\xf3n\\xb3W\\x92]',\n",
       "    b'\\xac\\xbc<]Y\\x94\\x8a\\xa2\\x13\\x18\\x82{\\t#7x'],\n",
       "   'ak': 515,\n",
       "   'RK': b'\\xac\\xbc<]Y\\x94\\x8a\\xa2\\x13\\x18\\x82{\\t#7x'},\n",
       "  'msgs': [{'name': 'c1',\n",
       "    'ik': 256,\n",
       "    'pek': 65281,\n",
       "    'id': -1,\n",
       "    'msg': b'Ib\\xde\\x8b#_'},\n",
       "   'aaaaaaaaaaaaa']}}"
      ]
     },
     "execution_count": 19,
     "metadata": {},
     "output_type": "execute_result"
    }
   ],
   "source": [
    "c1.chats"
   ]
  },
  {
   "cell_type": "code",
   "execution_count": 20,
   "metadata": {},
   "outputs": [
    {
     "data": {
      "text/plain": [
       "{'c1': {'c2': {'msgs': [{'name': 'c1',\n",
       "     'ik': 256,\n",
       "     'pek': 65281,\n",
       "     'id': -1,\n",
       "     'msg': b'Ib\\xde\\x8b#_'},\n",
       "    b'H\\xb5\\xdd\\x13\\x92)%1os\\x85\\xbf1'],\n",
       "   'keys': 8,\n",
       "   'n': 2}},\n",
       " 'c2': {'c1': {'msgs': [{'name': 'c1',\n",
       "     'ik': 256,\n",
       "     'pek': 65281,\n",
       "     'id': -1,\n",
       "     'msg': b'Ib\\xde\\x8b#_'},\n",
       "    b'H\\xb5\\xdd\\x13\\x92)%1os\\x85\\xbf1'],\n",
       "   'keys': 32,\n",
       "   'n': 2}}}"
      ]
     },
     "execution_count": 20,
     "metadata": {},
     "output_type": "execute_result"
    }
   ],
   "source": [
    "s.chats"
   ]
  },
  {
   "cell_type": "code",
   "execution_count": 21,
   "metadata": {},
   "outputs": [],
   "source": [
    "c2.msg_send('c1','aaaaaaaaaaaaa')"
   ]
  },
  {
   "cell_type": "code",
   "execution_count": 22,
   "metadata": {},
   "outputs": [
    {
     "name": "stdout",
     "output_type": "stream",
     "text": [
      "aaaaaaaaaaaaa\n"
     ]
    }
   ],
   "source": [
    "c1.msg_check('c2')"
   ]
  },
  {
   "cell_type": "code",
   "execution_count": 23,
   "metadata": {},
   "outputs": [
    {
     "data": {
      "text/plain": [
       "{'c2': {'RK': b'n\\x8a|\\x87(KM*\\xee\\xb9\\xf3n\\xb3W\\x92]',\n",
       "  'dir': 1,\n",
       "  'n': 3,\n",
       "  'keys': {'sk': [b'n\\x8a|\\x87(KM*\\xee\\xb9\\xf3n\\xb3W\\x92]',\n",
       "    b'\\xac\\xbc<]Y\\x94\\x8a\\xa2\\x13\\x18\\x82{\\t#7x',\n",
       "    b'XO\\xa8T\\x85+FE\\x81\\x8f%\\x16&\\x90\\xee\\xc0'],\n",
       "   'ak': 515,\n",
       "   'RK': b'XO\\xa8T\\x85+FE\\x81\\x8f%\\x16&\\x90\\xee\\xc0'},\n",
       "  'msgs': [{'name': 'c1',\n",
       "    'ik': 256,\n",
       "    'pek': 65281,\n",
       "    'id': -1,\n",
       "    'msg': b'Ib\\xde\\x8b#_'},\n",
       "   'aaaaaaaaaaaaa',\n",
       "   'aaaaaaaaaaaaa']}}"
      ]
     },
     "execution_count": 23,
     "metadata": {},
     "output_type": "execute_result"
    }
   ],
   "source": [
    "c1.chats"
   ]
  },
  {
   "cell_type": "code",
   "execution_count": 24,
   "metadata": {},
   "outputs": [
    {
     "data": {
      "text/plain": [
       "{'c1': {'msgs': [{'name': 'c1',\n",
       "    'ik': 256,\n",
       "    'pek': 65281,\n",
       "    'id': -1,\n",
       "    'msg': b'Ib\\xde\\x8b#_'},\n",
       "   'aaaaaaaaaaaaa',\n",
       "   'aaaaaaaaaaaaa'],\n",
       "  'dir': 0,\n",
       "  'n': 3,\n",
       "  'keys': {'sk': [b'n\\x8a|\\x87(KM*\\xee\\xb9\\xf3n\\xb3W\\x92]',\n",
       "    b'\\xac\\xbc<]Y\\x94\\x8a\\xa2\\x13\\x18\\x82{\\t#7x',\n",
       "    b'XO\\xa8T\\x85+FE\\x81\\x8f%\\x16&\\x90\\xee\\xc0'],\n",
       "   'ak': 361,\n",
       "   'RK': b'XO\\xa8T\\x85+FE\\x81\\x8f%\\x16&\\x90\\xee\\xc0'}}}"
      ]
     },
     "execution_count": 24,
     "metadata": {},
     "output_type": "execute_result"
    }
   ],
   "source": [
    "c2.chats"
   ]
  },
  {
   "cell_type": "code",
   "execution_count": 25,
   "metadata": {},
   "outputs": [
    {
     "data": {
      "text/plain": [
       "{'c1': {'c2': {'msgs': [{'name': 'c1',\n",
       "     'ik': 256,\n",
       "     'pek': 65281,\n",
       "     'id': -1,\n",
       "     'msg': b'Ib\\xde\\x8b#_'},\n",
       "    b'H\\xb5\\xdd\\x13\\x92)%1os\\x85\\xbf1',\n",
       "    b'\"\\x9a\\xd9\\x02\\x1fDmT\\xad\\x91\\x99\\x9bn'],\n",
       "   'keys': 8,\n",
       "   'n': 3}},\n",
       " 'c2': {'c1': {'msgs': [{'name': 'c1',\n",
       "     'ik': 256,\n",
       "     'pek': 65281,\n",
       "     'id': -1,\n",
       "     'msg': b'Ib\\xde\\x8b#_'},\n",
       "    b'H\\xb5\\xdd\\x13\\x92)%1os\\x85\\xbf1',\n",
       "    b'\"\\x9a\\xd9\\x02\\x1fDmT\\xad\\x91\\x99\\x9bn'],\n",
       "   'keys': 512,\n",
       "   'n': 3}}}"
      ]
     },
     "execution_count": 25,
     "metadata": {},
     "output_type": "execute_result"
    }
   ],
   "source": [
    "s.chats"
   ]
  },
  {
   "cell_type": "code",
   "execution_count": 34,
   "metadata": {},
   "outputs": [
    {
     "data": {
      "text/plain": [
       "{'g': {'dsd': 'ddd'}}"
      ]
     },
     "execution_count": 34,
     "metadata": {},
     "output_type": "execute_result"
    }
   ],
   "source": [
    "a"
   ]
  },
  {
   "cell_type": "code",
   "execution_count": 35,
   "metadata": {},
   "outputs": [],
   "source": [
    "a={'dd':'1', 'qe':'4'}"
   ]
  },
  {
   "cell_type": "code",
   "execution_count": null,
   "metadata": {},
   "outputs": [],
   "source": []
  }
 ],
 "metadata": {
  "kernelspec": {
   "display_name": "Python 3",
   "language": "python",
   "name": "python3"
  },
  "language_info": {
   "codemirror_mode": {
    "name": "ipython",
    "version": 3
   },
   "file_extension": ".py",
   "mimetype": "text/x-python",
   "name": "python",
   "nbconvert_exporter": "python",
   "pygments_lexer": "ipython3",
   "version": "3.7.4"
  }
 },
 "nbformat": 4,
 "nbformat_minor": 5
}
